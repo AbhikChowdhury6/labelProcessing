{
 "cells": [
  {
   "cell_type": "code",
   "execution_count": null,
   "metadata": {},
   "outputs": [],
   "source": [
    "# let's start with the seek ui\n",
    "\n",
    "# for that we'll take in a datetime and get the closest video to after that\n",
    "\n",
    "# things to take in\n",
    "# start datetime\n",
    "# camera name"
   ]
  },
  {
   "cell_type": "code",
   "execution_count": null,
   "metadata": {},
   "outputs": [],
   "source": [
    "# the first thing that'll happen is that we'll look in the parquets\n",
    "# for the first frame index"
   ]
  },
  {
   "cell_type": "code",
   "execution_count": null,
   "metadata": {},
   "outputs": [],
   "source": [
    "# seek function takes in a date and retruns the date based on the seek\n",
    "\n",
    "# options startDateTime, direction(1, -1), quantity(1,5,10,20), unit(update, second, minute, hour, day, month, year)\n",
    "def newDate(currDate, direction, quantity, unit):\n",
    "    uniti = [\"second\", \"minute\", \"hour\", \"day\", \"month\", \"year\"].index(unit)\n",
    "\n",
    "\n",
    "\n",
    "# what should the expected behavior be?\n",
    "# when seeking we show the traget time and then the closest update during/ after that\n",
    "\n",
    "# the labeling interface should be pretty generic with the datatype and min update frquency configured\n",
    "# for video it would be .1s\n",
    "# for audio, HR, and text labels it should be 1s\n",
    "# other data to be labeled could be on the order of one day or others\n",
    "\n",
    "# a way I might want to use the ui would be to call the ui function like this\n",
    "# paramters: \n",
    "\n",
    "\n",
    "# let's fix text at 1 second percision \n",
    "# ngl we can get rid of the update since this program will just be used for taxt annotation\n",
    "\n",
    "# should we make it shuch that we can dynamically look at data streams when labeling\n",
    "# should we perhaps have a big dashboard or have selects for available datastreams and previews to display\n",
    "# deffo selects for available datastreams and previews to display\n",
    "\n",
    "# if I can figure out preview interfaces for video, graphs, maps, and images that's pretty good\n",
    "\n",
    "#preview type will always be images, whether its a frame, or a spectrogram or a GPS map, or a matplotlib graph\n",
    "# which should mean that each data type should have a standard preview funtion that takes in a datetime index and returns an image\n",
    "# maybe also a period so \n",
    "\n",
    "\n",
    "# for now though I just want something to do a couple things\n",
    "\n",
    "# add annotations that are missing\n",
    "\n",
    "# check that annotations are good and edit them\n",
    "\n",
    "\n",
    "# MVP involves one camera, only previewing the image, and a 1s interval\n",
    "# the user flow will look like\n",
    "# call the program with a specific day\n",
    "# the UI will open with the first frame of that day\n",
    "# we can manually seek to when there's me in the frame\n",
    "\n",
    "# wizard of oz style we would \n",
    "# see me in bed\n",
    "# sitting up\n",
    "# sitting at edge of the bed\n",
    "# feeling groggy\n",
    "# picking up glass\n",
    "# drinking water\n",
    "# putting down glass\n",
    "# on phone\n",
    "# standing up\n",
    "# opening door\n",
    "# leaving room\n",
    "# entering room\n",
    "# walking to desk\n",
    "# putting down glass\n",
    "# sitting at desk\n",
    "\n",
    "\n",
    "\n",
    "\n"
   ]
  },
  {
   "cell_type": "code",
   "execution_count": null,
   "metadata": {},
   "outputs": [],
   "source": [
    "#TODO\n",
    "# make a function that takes in a datetime to the second and returns the nearest frame after and the time of that frame"
   ]
  },
  {
   "cell_type": "code",
   "execution_count": null,
   "metadata": {},
   "outputs": [],
   "source": [
    "# location and format of annotations\n",
    "# workingData/annotations\n",
    "# interval with value being the text\n",
    "# sorted by duration of the interval\n",
    "# "
   ]
  },
  {
   "cell_type": "code",
   "execution_count": null,
   "metadata": {},
   "outputs": [],
   "source": [
    "# button functions\n",
    "# seek buttons\n",
    "\n",
    "\n",
    "# edit buttons"
   ]
  },
  {
   "cell_type": "code",
   "execution_count": 2,
   "metadata": {},
   "outputs": [],
   "source": [
    "import tkinter as tk\n",
    "\n",
    "def main():\n",
    "    # Create the main window\n",
    "    root = tk.Tk()\n",
    "    #this is to set the name of the window\n",
    "    root.title(\"Four Buttons in a Row\")\n",
    "\n",
    "    \n",
    "    # Create a label widget\n",
    "    label = tk.Label(root, text='Hello, Tkinter!')\n",
    "    label.pack(pady=10) # this seems to be for positioning\n",
    "    \n",
    "    # Create a frame to hold the buttons\n",
    "    button_frame = tk.Frame(root)\n",
    "    button_frame.pack()\n",
    "\n",
    "    # Create and add four buttons to the frame\n",
    "    button_texts = [\"Button 1\", \"Button 2\", \"Button 3\", \"Button 4\"]\n",
    "\n",
    "    for text in button_texts:\n",
    "        button = tk.Button(button_frame, text=text)\n",
    "        button.pack(side=tk.LEFT, padx=5)  # Arrange buttons horizontally with some space\n",
    "\n",
    "\n",
    "    # Start the GUI event loop\n",
    "    root.mainloop()\n",
    "\n",
    "if __name__ == \"__main__\":\n",
    "    main()"
   ]
  },
  {
   "cell_type": "code",
   "execution_count": null,
   "metadata": {},
   "outputs": [],
   "source": []
  }
 ],
 "metadata": {
  "kernelspec": {
   "display_name": "vision",
   "language": "python",
   "name": "python3"
  },
  "language_info": {
   "codemirror_mode": {
    "name": "ipython",
    "version": 3
   },
   "file_extension": ".py",
   "mimetype": "text/x-python",
   "name": "python",
   "nbconvert_exporter": "python",
   "pygments_lexer": "ipython3",
   "version": "3.12.5"
  }
 },
 "nbformat": 4,
 "nbformat_minor": 2
}
