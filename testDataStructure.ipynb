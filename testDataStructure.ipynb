{
 "cells": [
  {
   "cell_type": "code",
   "execution_count": 2,
   "metadata": {},
   "outputs": [
    {
     "name": "stdout",
     "output_type": "stream",
     "text": [
      "dsf\n",
      "werq\n",
      "hdfgh\n",
      "q\n"
     ]
    }
   ],
   "source": [
    "while True:\n",
    "    testText = input(\"write here!\")\n",
    "    print(testText)\n",
    "    if testText == \"q\": break"
   ]
  },
  {
   "cell_type": "code",
   "execution_count": 6,
   "metadata": {},
   "outputs": [
    {
     "name": "stdout",
     "output_type": "stream",
     "text": [
      "lkjhsdfg\n",
      "ljkhsdfdljhas\n",
      "lajsdhflkjhasg\n",
      "lasjdhflkjashg\n",
      "lasjdhf\n",
      "lasdjkhf\n",
      "q\n",
      "[[datetime.datetime(2024, 12, 6, 15, 55, 52, 799144), 'lkjhsdfg', datetime.datetime(2024, 12, 6, 15, 55, 57, 344752)], [datetime.datetime(2024, 12, 6, 15, 55, 57, 344761), 'ljkhsdfdljhas', datetime.datetime(2024, 12, 6, 15, 55, 58, 979773)], [datetime.datetime(2024, 12, 6, 15, 55, 58, 979783), 'lajsdhflkjhasg', datetime.datetime(2024, 12, 6, 15, 56, 0, 277495)], [datetime.datetime(2024, 12, 6, 15, 56, 0, 277507), 'lasjdhflkjashg', datetime.datetime(2024, 12, 6, 15, 56, 1, 548329)], [datetime.datetime(2024, 12, 6, 15, 56, 1, 548336), 'lasjdhf', datetime.datetime(2024, 12, 6, 15, 56, 2, 659928)], [datetime.datetime(2024, 12, 6, 15, 56, 2, 659937), 'lasdjkhf', datetime.datetime(2024, 12, 6, 15, 56, 3, 906640)]]\n"
     ]
    }
   ],
   "source": [
    "from datetime import datetime\n",
    "\n",
    "data = []\n",
    "while True:\n",
    "    toAdd = [datetime.now()]\n",
    "    testText = input(\"write here!\")\n",
    "    toAdd.append(testText)\n",
    "    print(testText)\n",
    "    toAdd.append(datetime.now())\n",
    "    if testText == \"q\": break\n",
    "    data.append(toAdd)\n",
    "print(data)"
   ]
  },
  {
   "cell_type": "code",
   "execution_count": 43,
   "metadata": {},
   "outputs": [
    {
     "data": {
      "text/html": [
       "<div>\n",
       "<style scoped>\n",
       "    .dataframe tbody tr th:only-of-type {\n",
       "        vertical-align: middle;\n",
       "    }\n",
       "\n",
       "    .dataframe tbody tr th {\n",
       "        vertical-align: top;\n",
       "    }\n",
       "\n",
       "    .dataframe thead th {\n",
       "        text-align: right;\n",
       "    }\n",
       "</style>\n",
       "<table border=\"1\" class=\"dataframe\">\n",
       "  <thead>\n",
       "    <tr style=\"text-align: right;\">\n",
       "      <th></th>\n",
       "      <th></th>\n",
       "      <th>endTime</th>\n",
       "    </tr>\n",
       "    <tr>\n",
       "      <th>sampleDT</th>\n",
       "      <th>text</th>\n",
       "      <th></th>\n",
       "    </tr>\n",
       "  </thead>\n",
       "  <tbody>\n",
       "    <tr>\n",
       "      <th>2024-12-06 15:55:52.799144</th>\n",
       "      <th>lkjhsdfg</th>\n",
       "      <td>2024-12-06 15:55:57.344752</td>\n",
       "    </tr>\n",
       "    <tr>\n",
       "      <th>2024-12-06 15:55:57.344761</th>\n",
       "      <th>ljkhsdfdljhas</th>\n",
       "      <td>2024-12-06 15:55:58.979773</td>\n",
       "    </tr>\n",
       "    <tr>\n",
       "      <th>2024-12-06 15:55:58.979783</th>\n",
       "      <th>lajsdhflkjhasg</th>\n",
       "      <td>2024-12-06 15:56:00.277495</td>\n",
       "    </tr>\n",
       "    <tr>\n",
       "      <th>2024-12-06 15:56:00.277507</th>\n",
       "      <th>lasjdhflkjashg</th>\n",
       "      <td>2024-12-06 15:56:01.548329</td>\n",
       "    </tr>\n",
       "    <tr>\n",
       "      <th>2024-12-06 15:56:01.548336</th>\n",
       "      <th>lasjdhf</th>\n",
       "      <td>2024-12-06 15:56:02.659928</td>\n",
       "    </tr>\n",
       "    <tr>\n",
       "      <th>2024-12-06 15:56:02.659937</th>\n",
       "      <th>lasdjkhf</th>\n",
       "      <td>2024-12-06 15:56:03.906640</td>\n",
       "    </tr>\n",
       "  </tbody>\n",
       "</table>\n",
       "</div>"
      ],
      "text/plain": [
       "                                                             endTime\n",
       "sampleDT                   text                                     \n",
       "2024-12-06 15:55:52.799144 lkjhsdfg       2024-12-06 15:55:57.344752\n",
       "2024-12-06 15:55:57.344761 ljkhsdfdljhas  2024-12-06 15:55:58.979773\n",
       "2024-12-06 15:55:58.979783 lajsdhflkjhasg 2024-12-06 15:56:00.277495\n",
       "2024-12-06 15:56:00.277507 lasjdhflkjashg 2024-12-06 15:56:01.548329\n",
       "2024-12-06 15:56:01.548336 lasjdhf        2024-12-06 15:56:02.659928\n",
       "2024-12-06 15:56:02.659937 lasdjkhf       2024-12-06 15:56:03.906640"
      ]
     },
     "execution_count": 43,
     "metadata": {},
     "output_type": "execute_result"
    }
   ],
   "source": [
    "import pandas as pd\n",
    "tdf = pd.DataFrame(data=data,columns=[\"sampleDT\", \"text\", \"endTime\"])\n",
    "mi = pd.MultiIndex.from_frame(tdf[['sampleDT', 'text']])\n",
    "tdf.index = mi\n",
    "tdf = tdf.drop(columns=[\"sampleDT\", \"text\"])\n",
    "tdf"
   ]
  },
  {
   "cell_type": "code",
   "execution_count": 45,
   "metadata": {},
   "outputs": [
    {
     "data": {
      "text/plain": [
       "DatetimeIndex(['2024-12-06 15:55:52.799144', '2024-12-06 15:55:57.344761',\n",
       "               '2024-12-06 15:55:58.979783', '2024-12-06 15:56:00.277507',\n",
       "               '2024-12-06 15:56:01.548336', '2024-12-06 15:56:02.659937'],\n",
       "              dtype='datetime64[ns]', name='sampleDT', freq=None)"
      ]
     },
     "execution_count": 45,
     "metadata": {},
     "output_type": "execute_result"
    }
   ],
   "source": [
    "tdf.index.get_level_values(\"sampleDT\")"
   ]
  },
  {
   "cell_type": "code",
   "execution_count": null,
   "metadata": {},
   "outputs": [
    {
     "data": {
      "text/plain": [
       "array(['lasjdhflkjashg', 'lasjdhf', 'lasdjkhf'], dtype=object)"
      ]
     },
     "execution_count": 60,
     "metadata": {},
     "output_type": "execute_result"
    }
   ],
   "source": [
    "targetdt = data[3][0]\n",
    "targetEndDt = data[5][0]\n",
    "# looking up indexes based on timestamp and retrieving text\n",
    "tdf.loc[targetdt:targetEndDt].index.get_level_values(\"text\").values"
   ]
  },
  {
   "cell_type": "code",
   "execution_count": 22,
   "metadata": {},
   "outputs": [
    {
     "data": {
      "text/plain": [
       "sampleDT    2024-12-06 15:56:00.277507\n",
       "text                    lasjdhflkjashg\n",
       "endTime     2024-12-06 15:56:01.548329\n",
       "Name: (2024-12-06 15:56:00.277507, lasjdhflkjashg), dtype: object"
      ]
     },
     "execution_count": 22,
     "metadata": {},
     "output_type": "execute_result"
    }
   ],
   "source": [
    "tdf.iloc[3]"
   ]
  },
  {
   "cell_type": "code",
   "execution_count": null,
   "metadata": {},
   "outputs": [
    {
     "data": {
      "text/plain": [
       "'some tesssss'"
      ]
     },
     "execution_count": 51,
     "metadata": {},
     "output_type": "execute_result"
    }
   ],
   "source": [
    "newRow = [datetime.now(), input(\"Text Here!\"), datetime.now()]\n",
    "newRow"
   ]
  },
  {
   "cell_type": "code",
   "execution_count": null,
   "metadata": {},
   "outputs": [
    {
     "data": {
      "text/html": [
       "<div>\n",
       "<style scoped>\n",
       "    .dataframe tbody tr th:only-of-type {\n",
       "        vertical-align: middle;\n",
       "    }\n",
       "\n",
       "    .dataframe tbody tr th {\n",
       "        vertical-align: top;\n",
       "    }\n",
       "\n",
       "    .dataframe thead th {\n",
       "        text-align: right;\n",
       "    }\n",
       "</style>\n",
       "<table border=\"1\" class=\"dataframe\">\n",
       "  <thead>\n",
       "    <tr style=\"text-align: right;\">\n",
       "      <th></th>\n",
       "      <th></th>\n",
       "      <th>endTime</th>\n",
       "    </tr>\n",
       "    <tr>\n",
       "      <th>sampleDT</th>\n",
       "      <th>text</th>\n",
       "      <th></th>\n",
       "    </tr>\n",
       "  </thead>\n",
       "  <tbody>\n",
       "    <tr>\n",
       "      <th>2024-12-06 15:55:52.799144</th>\n",
       "      <th>lkjhsdfg</th>\n",
       "      <td>2024-12-06 15:55:57.344752</td>\n",
       "    </tr>\n",
       "    <tr>\n",
       "      <th>2024-12-06 15:55:57.344761</th>\n",
       "      <th>ljkhsdfdljhas</th>\n",
       "      <td>2024-12-06 15:55:58.979773</td>\n",
       "    </tr>\n",
       "    <tr>\n",
       "      <th>2024-12-06 15:55:58.979783</th>\n",
       "      <th>lajsdhflkjhasg</th>\n",
       "      <td>2024-12-06 15:56:00.277495</td>\n",
       "    </tr>\n",
       "    <tr>\n",
       "      <th>2024-12-06 15:56:00.277507</th>\n",
       "      <th>lasjdhflkjashg</th>\n",
       "      <td>2024-12-06 15:56:01.548329</td>\n",
       "    </tr>\n",
       "    <tr>\n",
       "      <th>2024-12-06 15:56:01.548336</th>\n",
       "      <th>lasjdhf</th>\n",
       "      <td>2024-12-06 15:56:02.659928</td>\n",
       "    </tr>\n",
       "    <tr>\n",
       "      <th>2024-12-06 15:56:02.659937</th>\n",
       "      <th>lasdjkhf</th>\n",
       "      <td>2024-12-06 15:56:03.906640</td>\n",
       "    </tr>\n",
       "    <tr>\n",
       "      <th>2024-12-06 19:32:15.719455</th>\n",
       "      <th>some tesssss</th>\n",
       "      <td>2024-12-06 19:32:24.371848</td>\n",
       "    </tr>\n",
       "  </tbody>\n",
       "</table>\n",
       "</div>"
      ],
      "text/plain": [
       "                                                              endTime\n",
       "sampleDT                   text                                      \n",
       "2024-12-06 15:55:52.799144 lkjhsdfg        2024-12-06 15:55:57.344752\n",
       "2024-12-06 15:55:57.344761 ljkhsdfdljhas   2024-12-06 15:55:58.979773\n",
       "2024-12-06 15:55:58.979783 lajsdhflkjhasg  2024-12-06 15:56:00.277495\n",
       "2024-12-06 15:56:00.277507 lasjdhflkjashg  2024-12-06 15:56:01.548329\n",
       "2024-12-06 15:56:01.548336 lasjdhf         2024-12-06 15:56:02.659928\n",
       "2024-12-06 15:56:02.659937 lasdjkhf        2024-12-06 15:56:03.906640\n",
       "2024-12-06 19:32:15.719455 some tesssss    2024-12-06 19:32:24.371848"
      ]
     },
     "execution_count": 58,
     "metadata": {},
     "output_type": "execute_result"
    }
   ],
   "source": [
    "# adding a new row from a list\n",
    "tdf.loc[(newRow[0], newRow[1]),'endTime'] = newRow[2]\n",
    "tdf"
   ]
  },
  {
   "cell_type": "code",
   "execution_count": 59,
   "metadata": {},
   "outputs": [
    {
     "data": {
      "text/plain": [
       "endTime    2024-12-06 15:56:01.548329\n",
       "Name: (2024-12-06 15:56:00.277507, lasjdhflkjashg), dtype: object"
      ]
     },
     "execution_count": 59,
     "metadata": {},
     "output_type": "execute_result"
    }
   ],
   "source": [
    "tdf.loc[(targetdt, 'lasjdhflkjashg')]\n"
   ]
  },
  {
   "cell_type": "code",
   "execution_count": null,
   "metadata": {},
   "outputs": [],
   "source": []
  }
 ],
 "metadata": {
  "kernelspec": {
   "display_name": "vision",
   "language": "python",
   "name": "python3"
  },
  "language_info": {
   "codemirror_mode": {
    "name": "ipython",
    "version": 3
   },
   "file_extension": ".py",
   "mimetype": "text/x-python",
   "name": "python",
   "nbconvert_exporter": "python",
   "pygments_lexer": "ipython3",
   "version": "3.11.10"
  }
 },
 "nbformat": 4,
 "nbformat_minor": 2
}
